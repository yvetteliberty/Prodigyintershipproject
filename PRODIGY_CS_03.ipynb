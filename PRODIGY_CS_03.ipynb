{
 "cells": [
  {
   "cell_type": "markdown",
   "id": "52d2cdc9",
   "metadata": {},
   "source": [
    "# Password Complexity Checker\n",
    "Build a tool that assesses the strength of a password based on criteria such as length, presence of uppercase and lowercase letters, numbers, and special characters. \n",
    "Provide feedback to users on the password's strength."
   ]
  },
  {
   "cell_type": "markdown",
   "id": "96a88271",
   "metadata": {},
   "source": [
    "Here's a simple Python code for a Password Complexity Checker. This code defines a function 'check_password_complexity' that takes a password as input and checks its complexity based on length, uppercase and lowercase letters, digits, and special characters. The 'main' function gets user input for a password and prints the result of the complexity check.\n",
    "\n",
    "\n",
    "\n",
    "To creat the password  , import re function.\n",
    "The re is a regular expression (or RE) specifies a set of strings that matches it; the functions  let you check if a particular string matches a given regular expression (or if a given regular expression matches a particular string, which comes down to the same thing)."
   ]
  },
  {
   "cell_type": "code",
   "execution_count": 12,
   "id": "d3d6a390",
   "metadata": {},
   "outputs": [],
   "source": [
    "import re"
   ]
  },
  {
   "cell_type": "code",
   "execution_count": 15,
   "id": "6ae755cb",
   "metadata": {},
   "outputs": [
    {
     "name": "stdout",
     "output_type": "stream",
     "text": [
      "input your password:Iremi123&\n",
      "password does not meet requirement\n"
     ]
    }
   ],
   "source": [
    "#define criteria for password strength\n",
    "def check_password_complexity(password):\n",
    "    length_password = len(password) >= 8\n",
    "    upper_password = bool(re.search(r'[A-Z]', password))\n",
    "    lowercase_password = bool(re.search(r'[a-z]', password))\n",
    "    digit_char = bool(re.search(r'\\d',password))\n",
    "    special_char = bool(re.search(r'[!@#$%^&*(),.?\"{}/<>]',password))\n",
    "    \n",
    "    if length_password < 8 :\n",
    "        return  False\n",
    "    if not re.search(upper_password,password):\n",
    "        return False\n",
    "    if not re.search (lower_password,password):\n",
    "        return False\n",
    "    if not re.search(digit_char,password):\n",
    "         return False\n",
    "\n",
    "    return True\n",
    "password =input ('input your password:')\n",
    "valid = validate_password(password)\n",
    "if valid :\n",
    "    print('valid password')\n",
    "else:\n",
    "        print(\"password does not meet requirement\")"
   ]
  },
  {
   "cell_type": "code",
   "execution_count": null,
   "id": "4cc560f6",
   "metadata": {},
   "outputs": [],
   "source": []
  },
  {
   "cell_type": "code",
   "execution_count": null,
   "id": "7dd25cc9",
   "metadata": {},
   "outputs": [],
   "source": []
  }
 ],
 "metadata": {
  "kernelspec": {
   "display_name": "Python 3 (ipykernel)",
   "language": "python",
   "name": "python3"
  },
  "language_info": {
   "codemirror_mode": {
    "name": "ipython",
    "version": 3
   },
   "file_extension": ".py",
   "mimetype": "text/x-python",
   "name": "python",
   "nbconvert_exporter": "python",
   "pygments_lexer": "ipython3",
   "version": "3.9.12"
  }
 },
 "nbformat": 4,
 "nbformat_minor": 5
}
