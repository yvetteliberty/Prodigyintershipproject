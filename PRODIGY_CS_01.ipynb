{
 "cells": [
  {
   "cell_type": "markdown",
   "id": "771a22ad",
   "metadata": {},
   "source": [
    "Implement Caesar Cipher\n",
    "\n",
    "Create a Python program that can encrypt and decrypt text using the Caesar Cipher algorithm.\n",
    "Allow users to input a message and a shift value to perform encryption and decryption."
   ]
  },
  {
   "cell_type": "markdown",
   "id": "82ff1d19",
   "metadata": {},
   "source": [
    "OVERVIEW OF CAESAR CIPHER\n",
    "Caesar Cipher is a type of substitution cipher in which each letter in plaintext is replaced by a letter  some fix number of positions down the alphabets\n",
    "Caesar cipher encryption has the following features \n",
    "a. simple technique to apply encryption.\n",
    "b.Each text is replaced by a fixed number positions down or up with alphabets.\n",
    "c. Simple type of substitute cipher"
   ]
  },
  {
   "cell_type": "code",
   "execution_count": 3,
   "id": "2fef2cf5",
   "metadata": {},
   "outputs": [
    {
     "name": "stdout",
     "output_type": "stream",
     "text": [
      "Do you want to encrypt or decrypt\n",
      "E/D:E\n",
      "\n",
      "encryption mode selected\n",
      "\n",
      "Enter the key(1 throught 26): 2\n",
      "Enter the text to be encrypted: YVETTE\n",
      "CIPHERTEXT:  g\n"
     ]
    }
   ],
   "source": [
    "# CREATE VARIABLE and function\n",
    "letters = 'abcdefghijklmnopqrstuvwxyz'\n",
    "num_letters = len(letters)\n",
    "\n",
    "def encrypt(plaintext,key):\n",
    "    ciphertext =  ' '\n",
    "    for letter in plaintext:\n",
    "        letter = letter.lower()\n",
    "    if not letter ==  ' ':\n",
    "        index = letters.find(letter)\n",
    "        if index == -1:\n",
    "            ciphertext += letter\n",
    "        else:\n",
    "             new_index = index + key\n",
    "        if new_index >= num_letters:\n",
    "            new_index -= num_letters\n",
    "        ciphertext += letters[new_index]\n",
    "    return ciphertext\n",
    "\n",
    "def decrypt(ciphertext,key):\n",
    "    plaintext =  ' '\n",
    "    for letter in ciphertext:\n",
    "        letter = letter.lower()\n",
    "        if not letter == ' ':\n",
    "            index = letters.find(letter)\n",
    "        if index == -1:\n",
    "            plaintext += letter\n",
    "    else:\n",
    "         new_index = index - key\n",
    "    if new_index < 0:\n",
    "        new_index += num_letters\n",
    "    plaintext += letters[new_index]   \n",
    "    return plaintext\n",
    "\n",
    "\n",
    "#assign variable input function\n",
    "print('Do you want to encrypt or decrypt')\n",
    "user_input = input('E/D:').lower()\n",
    "print()\n",
    "\n",
    "if user_input == 'e':\n",
    "    print ('encryption mode selected')\n",
    "    print()\n",
    "    key= int(input('Enter the key(1 throught 26): '))\n",
    "    text= input('Enter the text to be encrypted: ')\n",
    "    ciphertext = encrypt(text, key)\n",
    "    print(f'CIPHERTEXT: {ciphertext}')\n",
    "    \n",
    "elif user_input == 'd':\n",
    "    print ('decryption mode selected')\n",
    "    print()\n",
    "    key= int(input('Enter the key(1 through 26): '))\n",
    "    text= input('Enter the text to be decrypted: ')\n",
    "    plaintext = decrypt (text, key)\n",
    "    print(f'PLAINTEXT: {plaintext}')\n",
    "    \n"
   ]
  },
  {
   "cell_type": "code",
   "execution_count": null,
   "id": "7c615f3a",
   "metadata": {},
   "outputs": [],
   "source": []
  },
  {
   "cell_type": "code",
   "execution_count": null,
   "id": "d4e6e040",
   "metadata": {},
   "outputs": [],
   "source": []
  }
 ],
 "metadata": {
  "kernelspec": {
   "display_name": "Python 3 (ipykernel)",
   "language": "python",
   "name": "python3"
  },
  "language_info": {
   "codemirror_mode": {
    "name": "ipython",
    "version": 3
   },
   "file_extension": ".py",
   "mimetype": "text/x-python",
   "name": "python",
   "nbconvert_exporter": "python",
   "pygments_lexer": "ipython3",
   "version": "3.9.12"
  }
 },
 "nbformat": 4,
 "nbformat_minor": 5
}
